{
 "cells": [
  {
   "cell_type": "code",
   "execution_count": 85,
   "metadata": {},
   "outputs": [],
   "source": [
    "import urllib2\n",
    "import re\n",
    "import lxml.html\n",
    "from datetime import datetime"
   ]
  },
  {
   "cell_type": "code",
   "execution_count": 3,
   "metadata": {},
   "outputs": [],
   "source": [
    "url = 'https://www.literotica.com/c/fetish-stories/1-page'\n",
    "genre = 'fetish-stories'"
   ]
  },
  {
   "cell_type": "code",
   "execution_count": 4,
   "metadata": {},
   "outputs": [],
   "source": [
    "def download(url, user_agent='liter', num_retries=2):\n",
    "    print('Downloading', url)\n",
    "    headers = {'User-agent': user_agent}\n",
    "    request = urllib2.Request(url, headers=headers)\n",
    "    try:\n",
    "        html = urllib2.urlopen(request).read()\n",
    "    except urllib2.URLError as e:\n",
    "        print 'Download error:', e.reason\n",
    "        html = None\n",
    "        if num_retries > 0:\n",
    "            if hasattr(e, 'code') and 500 <= e.code < 600:\n",
    "                #recursively retry 5xx HTTP errors\n",
    "                return download(url, user_agent, num_retries-1)\n",
    "    \n",
    "    print(\"Wrote HTML %s to %s\" % (html[:15],file))\n",
    "    \n",
    "    return html"
   ]
  },
  {
   "cell_type": "code",
   "execution_count": 7,
   "metadata": {},
   "outputs": [
    {
     "name": "stdout",
     "output_type": "stream",
     "text": [
      "('Downloading', 'https://www.literotica.com/c/fetish-stories/1-page')\n",
      "Wrote HTML <!DOCTYPE html  to <type 'file'>\n"
     ]
    }
   ],
   "source": [
    "html = download(url)"
   ]
  },
  {
   "cell_type": "code",
   "execution_count": 97,
   "metadata": {},
   "outputs": [],
   "source": [
    "tree = lxml.html.fromstring(html)\n",
    "story_urls = tree.xpath('//div[@class=\"b-sl-item-r w-34t\"]/h3/a/@href')\n",
    "story_titles = tree.xpath('//div[@class=\"b-sl-item-r w-34t\"]/h3/a/text()')\n",
    "story_descs = [re.sub(u'\\xa0\\u2014\\xa0','',desc) for desc in tree.xpath('//div[@class=\"b-sl-item-r w-34t\"]/span[@class=\"b-sli-description p-57u\"]/text()')]\n",
    "story_author_names = tree.xpath('//div[@class=\"b-sl-item-r w-34t\"]/span[@class=\"b-sli-meta\"]/span[@class=\"b-sli-author\"]/a/text()')\n",
    "story_author_ids = [re.match('.*uid=(\\w+)&',id).group(1) for id in tree.xpath('//div[@class=\"b-sl-item-r w-34t\"]/span[@class=\"b-sli-meta\"]/span[@class=\"b-sli-author\"]/a/@href')]\n",
    "story_dates = [datetime.strptime(date, '%m/%d/%y') for date in tree.xpath('//div[@class=\"b-sl-item-r w-34t\"]/span[@class=\"b-sli-meta\"]/span[@class=\"b-sli-date\"]/text()')]\n",
    "story_ratings = [float(rating) for rating in tree.xpath('//div[@class=\"b-sl-item-r w-34t\"]/span[@class=\"b-sli-meta\"]/span[@class=\"b-sli-rating\"]/text()')]\n"
   ]
  },
  {
   "cell_type": "code",
   "execution_count": 98,
   "metadata": {},
   "outputs": [
    {
     "name": "stdout",
     "output_type": "stream",
     "text": [
      "[4.23, 4.17, 4.13, 4.41, 3.88, 4.24, 3.5, 3.69, 3.96, 4.43, 2.94, 3.33, 3.66, 4.36, 4.06, 3.39, 3.29, 3.3, 4.04, 4.2, 4.06, 4.39, 4.52, 4.47, 4.09, 4.02, 4.15, 4.14, 4.32, 4.15, 3.81, 4.07, 4.18, 4.27, 3.71, 4.03, 4.07, 4.31, 4.46, 4.32, 4.45, 4.43, 4.35, 4.44, 4.52, 4.39, 4.47, 4.56, 4.39, 4.6, 4.58, 4.13, 3.72, 4.06, 3.23, 4.24, 3.43, 4.46, 4.5, 4.25, 3.48, 4.21, 3.94, 4.2, 3.98, 3.39, 4.38, 4.24, 4.53, 4.23, 3.78, 4.49, 3.9, 4.4, 4.57, 3.86, 3.33, 2.68, 4.4, 4.27, 4.54, 4.35, 3.55, 3.68, 3.77, 4.09, 4.2, 4.52, 4.3, 4.35, 3.81, 3.84, 3.64, 4.32, 3.95, 4.44, 4.36, 4.61, 4.63, 3.86, 4.34, 3.91, 4.27, 4.24, 4.24, 4.06, 3.39, 4.49, 3.47, 3.51, 4.73, 4.72, 4.7, 3.88, 3.83, 4.08, 4.22, 4.22, 4.15, 4.17, 4.33, 4.43, 4.55, 4.6, 4.27, 4.38, 3.53, 4.17, 4.35, 4.37, 3.67, 3.5, 4.05, 4.04, 4.26, 4.37, 3.97, 4.27, 4.67, 4.41, 4.48, 4.68]\n"
     ]
    }
   ],
   "source": [
    "#print(zip(story_urls,story_titles,story_descs,story_author_names))\n",
    "print(story_ratings)"
   ]
  },
  {
   "cell_type": "code",
   "execution_count": 100,
   "metadata": {},
   "outputs": [
    {
     "name": "stdout",
     "output_type": "stream",
     "text": [
      "{'jkl': {'title': '3'}, 'fdsa': {'title': '2'}, 'asdf': {'title': '1'}}\n"
     ]
    }
   ],
   "source": [
    "z = [('asdf','1'),('fdsa','2'),('jkl','3')]\n",
    "d = {url:{'title':title} for (url, title) in z}\n",
    "print(d)"
   ]
  },
  {
   "cell_type": "code",
   "execution_count": 106,
   "metadata": {},
   "outputs": [
    {
     "name": "stdout",
     "output_type": "stream",
     "text": [
      "('https://www.literotica.com/s/are-they-nice', '\"Are they Nice?\"', u\"Indulging her husband's taste for shoes.\", 'FootnoteFetish', '3254242', datetime.datetime(2016, 7, 29, 0, 0), 4.23)\n",
      "('https://www.literotica.com/s/oops-sorry-dean-flashes-wife-4', '\"Oops, Sorry,\" Dean Flashes Wife #4', u'Confessing secret, sexual fetishes in exchange for sex.', 'SusanJillParker', '1344171', datetime.datetime(2014, 4, 17, 0, 0), 4.17)\n",
      "('https://www.literotica.com/s/perversion-immersion-therapy-ch-01', '\"Perversion Immersion\" Therapy Ch. 01', u'My breast obsession therapy.', 'Itismetomfoolery', '1588270', datetime.datetime(2014, 8, 31, 0, 0), 4.13)\n",
      "('https://www.literotica.com/s/perversion-immersion-therapy-ch-01-intro', '\"Perversion Immersion\" Therapy Ch. 01: Intro', u'Some have asked how I met Dr Gigi & how my therapy started.', 'Itismetomfoolery', '1588270', datetime.datetime(2017, 1, 18, 0, 0), 4.41)\n",
      "('https://www.literotica.com/s/t-is-for-tied-teased-tormented', '\"T\" is for Tied Teased Tormented', u'An episode in the life of Chantelle Super Sub Slut.', 'chanstevens', '569555', datetime.datetime(2006, 2, 14, 0, 0), 3.88)\n",
      "('https://www.literotica.com/s/youre-mine-too', '\"You\\'re Mine, Too.\"', u'Little decides to surprise her daddy after a rough night.', 'iuvh0bruise', '2418179', datetime.datetime(2015, 2, 18, 0, 0), 4.24)\n",
      "('https://www.literotica.com/s/death-by-the-naughty-poet', \"'Death' by The Naughty Poet\", u'A man seduces a naughty woman and then leaves her.', 'ticklechambers', '1198818', datetime.datetime(2011, 1, 1, 0, 0), 3.5)\n",
      "('https://www.literotica.com/s/s-hair-trader', '(S)hair Trader', u'Oral pleasures of a wanton trader.', 'belab', '124694', datetime.datetime(2002, 7, 2, 0, 0), 3.69)\n",
      "('https://www.literotica.com/s/and-you-wonder', '... And You Wonder ...', u'Why I love the wild and the crazy!!', 'theWIFEWatcher', '698392', datetime.datetime(2015, 10, 23, 0, 0), 3.96)\n",
      "('https://www.literotica.com/s/and-you-wonder-pt-02', '... And You Wonder ... Pt. 02', u'Why I love the wild and the crazy!!', 'theWIFEWatcher', '698392', datetime.datetime(2015, 10, 27, 0, 0), 4.43)\n",
      "('https://www.literotica.com/s/1-200-pound-orgy', '1,200 pound orgy', u'So many fat girls!', 'adrenaline61938', '1270210', datetime.datetime(2014, 1, 22, 0, 0), 2.94)\n",
      "('https://www.literotica.com/s/10-layers', '10 Layers', u'He completes a kinky dare.', 'buzbybdsm', '711173', datetime.datetime(2006, 7, 3, 0, 0), 3.33)\n",
      "('https://www.literotica.com/s/100-confessions-of-a-straight-white-male', '100 Confessions of a \"Straight\" White Male', u'Stubborn Racist Details/Defends BBC Addiction & SPH Fetish!', 'Enterracial', '3535385', datetime.datetime(2017, 1, 26, 0, 0), 3.66)\n",
      "('https://www.literotica.com/s/1001-nights', '1001 Nights', u'The Diplomat and the Harem Girl.', 'torquedtales', '742600', datetime.datetime(2007, 9, 17, 0, 0), 4.36)\n",
      "('https://www.literotica.com/s/12-days-of-christmas-panties', '12 Days of Christmas Panties', u'12 days of Sexmas fun.', 'DrLit', '1477881', datetime.datetime(2013, 12, 25, 0, 0), 4.06)\n",
      "('https://www.literotica.com/s/120mph', '120mph', u'I always liked a man in uniform.', 'blackcoffeerealist', '1204000', datetime.datetime(2010, 6, 8, 0, 0), 3.39)\n",
      "('https://www.literotica.com/s/1983-1', '1983', u'Jane was crazy. But I wanted her to pee on me.', 'cerection', '997898', datetime.datetime(2009, 8, 7, 0, 0), 3.29)\n",
      "('https://www.literotica.com/s/2-men-1-cup', '2 Men 1 Cup', u'Two porn actors perform a classic scene.', 'expressiveness', '972248', datetime.datetime(2009, 3, 18, 0, 0), 3.3)\n",
      "('https://www.literotica.com/s/2-size-queens-and-a-large-pepperoni', '2 Size Queens and a Large Pepperoni', u'Small cocked guy meets hot size queens.', 'smally', '767898', datetime.datetime(2006, 11, 7, 0, 0), 4.04)\n",
      "('https://www.literotica.com/s/2010-mustang', '2010 Mustang', u'I drove a bright blue, brand spanking new Ford Mustang.', 'Middleagepoet', '296214', datetime.datetime(2009, 11, 18, 0, 0), 4.2)\n",
      "('https://www.literotica.com/s/2015-readers-choice-awards-best-fetish-story', \"2015 Reader's Choice Awards: Best Fetish Story\", u'The best of 2015 - as chosen by you, the reader!', 'Literotica', '81387', datetime.datetime(2016, 5, 10, 0, 0), 4.06)\n",
      "('https://www.literotica.com/s/2035-the-year-of-male-chastity-pt-03', '2035 - The Year of Male Chastity Pt. 03', u'Our Honeymoon.', 'Longjohnsilver30', '2159495', datetime.datetime(2015, 3, 23, 0, 0), 4.39)\n",
      "('https://www.literotica.com/s/2035-the-year-of-male-chastity-pt-04', '2035 - The Year of Male Chastity Pt. 04', u'Life after the honeymoon for the Chastity belted husband', 'Longjohnsilver30', '2159495', datetime.datetime(2015, 3, 25, 0, 0), 4.52)\n",
      "('https://www.literotica.com/s/2035-the-year-of-male-chastity-pt-05', '2035 - The Year of Male Chastity Pt. 05', u'Patrick becomes reacquainted with Rebecca.', 'Longjohnsilver30', '2159495', datetime.datetime(2015, 3, 27, 0, 0), 4.47)\n",
      "('https://www.literotica.com/s/2035-the-year-of-male-chastity-pt-06', '2035 - The Year of Male Chastity Pt. 06', u'Off to Paris.', 'Longjohnsilver30', '2159495', datetime.datetime(2015, 3, 28, 0, 0), 4.09)\n",
      "('https://www.literotica.com/s/2035-the-year-of-male-chastity-pt-07', '2035 - The Year of Male Chastity Pt. 07', u'Sunday is fun day.', 'Longjohnsilver30', '2159495', datetime.datetime(2015, 3, 31, 0, 0), 4.02)\n",
      "('https://www.literotica.com/s/22', '22', u'Hu Cow program.', 'Andromeda7', '1286886', datetime.datetime(2013, 7, 17, 0, 0), 4.15)\n",
      "('https://www.literotica.com/s/22-ch-02', '22 Ch. 02', u'The Sow Meadow.', 'Andromeda7', '1286886', datetime.datetime(2013, 7, 22, 0, 0), 4.14)\n",
      "('https://www.literotica.com/s/22-ch-03', '22 Ch. 03', u'Time for the Dip.', 'Andromeda7', '1286886', datetime.datetime(2013, 8, 2, 0, 0), 4.32)\n",
      "('https://www.literotica.com/s/22-ch-04', '22 Ch. 04', u' . . . . we continue.', 'Andromeda7', '1286886', datetime.datetime(2013, 12, 29, 0, 0), 4.15)\n",
      "('https://www.literotica.com/s/22-ch-05', '22 Ch. 05', u'The vet makes a call . . . .', 'Andromeda7', '1286886', datetime.datetime(2014, 1, 10, 0, 0), 3.81)\n",
      "('https://www.literotica.com/s/3-am-she-finally-comes-home', '3 AM: She Finally Comes Home', u\"A sissy's wife returns from her date.\", 'siscuc', '3190460', datetime.datetime(2016, 5, 15, 0, 0), 4.07)\n",
      "('https://www.literotica.com/s/3-good-friends', '3 Good Friends', u'Two women dominate him with feet, tickles, and bondage.', 'CFNMtickledguy', '1354875', datetime.datetime(2012, 9, 20, 0, 0), 4.18)\n",
      "('https://www.literotica.com/s/3-good-friends-ch-02-1', '3 Good Friends Ch. 02', u'A FF/M threesome.', 'CFNMtickledguy', '1354875', datetime.datetime(2012, 9, 28, 0, 0), 4.27)\n",
      "('https://www.literotica.com/s/3-on-1', '3 on 1', u'3 girls get what they want from one guy.', 'cby2', '105562', datetime.datetime(2009, 2, 3, 0, 0), 3.71)\n",
      "('https://www.literotica.com/s/3-49pm', '3.49pm', u'Master returns to hotel room for bathroom break.', 'irishblackgirl', '1025498', datetime.datetime(2009, 2, 25, 0, 0), 4.03)\n",
      "('https://www.literotica.com/s/30-days-or-bust-day-01', '30 Days or Bust: Day 01', u'Lisa hires a milk-man.', 'l8bloom', '791212', datetime.datetime(2009, 7, 12, 0, 0), 4.07)\n",
      "('https://www.literotica.com/s/30-days-or-bust-day-02', '30 Days or Bust: Day 02', u'He sucks her tits outdoors.', 'l8bloom', '791212', datetime.datetime(2009, 7, 13, 0, 0), 4.31)\n",
      "('https://www.literotica.com/s/30-days-or-bust-day-03', '30 Days or Bust: Day 03', u'He sucks her tits after church.', 'l8bloom', '791212', datetime.datetime(2009, 7, 14, 0, 0), 4.46)\n",
      "('https://www.literotica.com/s/30-days-or-bust-day-04', '30 Days or Bust: Day 04', u'He sucks her tits in an apple orchard.', 'l8bloom', '791212', datetime.datetime(2009, 7, 15, 0, 0), 4.32)\n",
      "('https://www.literotica.com/s/30-days-or-bust-day-05', '30 Days or Bust: Day 05', u'A misunderstanding.', 'l8bloom', '791212', datetime.datetime(2009, 7, 16, 0, 0), 4.45)\n",
      "('https://www.literotica.com/s/30-days-or-bust-day-06', '30 Days or Bust: Day 06', u'He sucks her tits in the bathtub.', 'l8bloom', '791212', datetime.datetime(2009, 7, 17, 0, 0), 4.43)\n",
      "('https://www.literotica.com/s/30-days-or-bust-day-07', '30 Days or Bust: Day 07', u'He sucks her tits in a ladies\\u2019 room.', 'l8bloom', '791212', datetime.datetime(2009, 7, 18, 0, 0), 4.35)\n",
      "('https://www.literotica.com/s/30-days-or-bust-day-08', '30 Days or Bust: Day 08', u'He services someone else.', 'l8bloom', '791212', datetime.datetime(2009, 7, 19, 0, 0), 4.44)\n",
      "('https://www.literotica.com/s/30-days-or-bust-day-09', '30 Days or Bust: Day 09', u'He sucks her tits in her office.', 'l8bloom', '791212', datetime.datetime(2009, 7, 20, 0, 0), 4.52)\n",
      "('https://www.literotica.com/s/30-days-or-bust-day-10', '30 Days or Bust: Day 10', u'He catches her masturbating.', 'l8bloom', '791212', datetime.datetime(2009, 7, 21, 0, 0), 4.39)\n",
      "('https://www.literotica.com/s/30-days-or-bust-day-11', '30 Days or Bust: Day 11', u'Another woman wants him.', 'l8bloom', '791212', datetime.datetime(2009, 7, 22, 0, 0), 4.47)\n",
      "('https://www.literotica.com/s/30-days-or-bust-day-12', '30 Days or Bust: Day 12', u'Lisa measures herself.', 'l8bloom', '791212', datetime.datetime(2009, 7, 23, 0, 0), 4.56)\n",
      "('https://www.literotica.com/s/30-days-or-bust-day-14', '30 Days or Bust: Day 14', u'He milks her at last.', 'l8bloom', '791212', datetime.datetime(2009, 7, 25, 0, 0), 4.39)\n",
      "('https://www.literotica.com/s/30-days-or-bust-day-15', '30 Days or Bust: Day 15', u'Love interrupted.', 'l8bloom', '791212', datetime.datetime(2009, 7, 26, 0, 0), 4.6)\n",
      "('https://www.literotica.com/s/30-days-or-bust-day-18', '30 Days or Bust: Day 18', u'A happy rear-ending.', 'l8bloom', '791212', datetime.datetime(2009, 7, 29, 0, 0), 4.58)\n",
      "('https://www.literotica.com/s/9-stone-cum-queen-in-the-suburbs', '9 Stone Cum Queen in the Suburbs', u\"The Queen makes a husband come in his wife's face.\", '9StoneCumQueen', '987658', datetime.datetime(2008, 7, 5, 0, 0), 4.13)\n",
      "('https://www.literotica.com/s/a-twist-in-his-sobriety', 'A  Twist in His Sobriety', u'A wild night of drugs and sex.', 'jjsharshaw', '59042', datetime.datetime(2002, 8, 5, 0, 0), 3.72)\n",
      "('https://www.literotica.com/s/a-holistic-doctors-visit', 'A \"Holistic\" Doctor\\'s Visit', u'She has a thorough physical exam.', 'Carl the Dane', '608946', datetime.datetime(2007, 12, 20, 0, 0), 4.06)\n",
      "('https://www.literotica.com/s/a-seeding-ly-close-encounter', 'A \"Seeding-ly\" Close Encounter', u'Girlfriend came close to being \"seeded\" by her boyfriend.', 'vantan', '3187208', datetime.datetime(2017, 3, 1, 0, 0), 3.23)\n",
      "('https://www.literotica.com/s/a-skirted-man-with-two-assholes.', \"A ''Skirted'' Man with Two Assholes\", u'A moment of ultimate truth is coming for Paul.', 'thechangedone', '1285007', datetime.datetime(2011, 4, 13, 0, 0), 4.24)\n",
      "('https://www.literotica.com/s/a-stocking-situation', \"A 'Stocking' Situation\", u'...not just for women.', 'gadgetgrrl', '1139287', datetime.datetime(2009, 10, 22, 0, 0), 3.43)\n",
      "('https://www.literotica.com/s/a-50s-tryst', 'A 50s Tryst', u'Vintage prostitution.', 'necronyms', '1236944', datetime.datetime(2010, 10, 9, 0, 0), 4.46)\n",
      "('https://www.literotica.com/s/a-almost-perfect-awakening-ch-18', 'A Almost Perfect Awakening Ch. 18', u'Sisters orchestrate a secret fantasy.', 'Wm_Sexspear', '97656', datetime.datetime(2002, 10, 21, 0, 0), 4.5)\n",
      "('https://www.literotica.com/s/a-bad-day-at-work-2', 'A Bad Day at Work', u'How I made your day much better.', 'big_time_gamer92', '2989696', datetime.datetime(2016, 1, 1, 0, 0), 4.25)\n",
      "('https://www.literotica.com/s/a-bad-day-gets-better-1', 'A Bad Day Gets Better', u'Secretary/slut give the boss relief.', 'Hubee', '236691', datetime.datetime(2010, 10, 17, 0, 0), 3.48)\n",
      "('https://www.literotica.com/s/a-bad-man-and-a-good-decision', 'A Bad Man and a Good Decision', u\"He likes short hair, she doesn't.\", 'clipperdreams', '2840408', datetime.datetime(2015, 10, 14, 0, 0), 4.21)\n",
      "('https://www.literotica.com/s/a-balmy-evening-footjob', 'A Balmy Evening Footjob', u'Enjoying a warm evening, with a fine girlfriend and a footjob.', 'morgan_69', '1160499', datetime.datetime(2010, 1, 2, 0, 0), 3.94)\n",
      "('https://www.literotica.com/s/a-barbecue', 'A Barbecue', u'The reeducation of an MCP.', 'drsalt', '135628', datetime.datetime(2002, 9, 17, 0, 0), 4.2)\n",
      "('https://www.literotica.com/s/a-barely-acceptable-portrait', 'A Barely Acceptable Portrait', u'Community leader poses without her stylish dress.', 'Francine-frcxa', '57290', datetime.datetime(2002, 8, 30, 0, 0), 3.98)\n",
      "('https://www.literotica.com/s/a-bath-and-a-shave', 'A Bath and a Shave', u'Pleasing Ms. R.', 'do4ualso', '2064991', datetime.datetime(2014, 7, 13, 0, 0), 3.39)\n",
      "('https://www.literotica.com/s/a-bbw-and-her-drain-problem', 'A BBW & Her Drain Problem', u'Removing the block was just the start.', 'JCBMAN', '57074', datetime.datetime(2001, 10, 22, 0, 0), 4.38)\n",
      "('https://www.literotica.com/s/a-bbw-and-her-nightgown', 'A BBW and Her Nightgown', u'An old friend shows her that he loves her new body.', 'PhilaBBW', '1146599', datetime.datetime(2009, 11, 6, 0, 0), 4.24)\n",
      "('https://www.literotica.com/s/a-bbw-for-my-birthday', 'A BBW For My Birthday', u'BBW call girl surprises birthday boy.', 'NiceGuyInVa', '566941', datetime.datetime(2005, 10, 18, 0, 0), 4.53)\n",
      "('https://www.literotica.com/s/a-beautiful-computerfold', 'A Beautiful Computerfold', u\"Double Elimination's Ron Webber continues his story.\", 'eightballbum', '652223', datetime.datetime(2006, 7, 9, 0, 0), 4.23)\n",
      "('https://www.literotica.com/s/a-beautiful-delivery', 'A Beautiful Delivery', u'A surprise delivery makes his day.', '4SWEETCHEEKS', '1092983', datetime.datetime(2009, 5, 15, 0, 0), 3.78)\n",
      "('https://www.literotica.com/s/a-beginners-guide-to-domination', \"A Beginner's Guide To Domination\", u\"Your man has dreamt of being dominated? Here's how.\", '4nickeightor', '1321270', datetime.datetime(2011, 12, 22, 0, 0), 4.49)\n",
      "('https://www.literotica.com/s/a-bet-on-my-self-control', 'A Bet on My Self-Control', u'I try to resist my teasing Asian coworker.', 'ddoteeem', '1473231', datetime.datetime(2015, 11, 20, 0, 0), 3.9)\n",
      "('https://www.literotica.com/s/a-birthday-present-ch-02', 'A Birthday Present Ch. 02', u\"Ella and Jaime's experiment continues.\", 'PhaedraLovesKnives', '861956', datetime.datetime(2007, 7, 9, 0, 0), 4.4)\n",
      "('https://www.literotica.com/s/a-birthday-to-remember-7', 'A Birthday to Remember', u'Wife dominates him like never before.', 'TwistedPlayr', '262511', datetime.datetime(2005, 3, 2, 0, 0), 4.57)\n",
      "('https://www.literotica.com/s/a-birthday-to-remember-26', 'A Birthday to Remember', u\"Mom's friend, leads to fetish for silk, and so much more.\", 'cumwithme2', '2810312', datetime.datetime(2016, 8, 18, 0, 0), 3.86)\n",
      "('https://www.literotica.com/s/a-bit-of-leather', 'A Bit of Leather', u'She takes him on wild journey into pleasure & pain.', 'Damon Knight', '5533', datetime.datetime(2000, 11, 2, 0, 0), 3.33)\n",
      "('https://www.literotica.com/s/a-bit-of-roleplay', 'A Bit of Roleplay', u'Gonna spice it up a little with a professor & student.', 'GreenDemonGurlie', '200042', datetime.datetime(2008, 9, 29, 0, 0), 2.68)\n",
      "('https://www.literotica.com/s/a-bloody-fuck-ch-01', 'A Bloody Fuck Ch. 01', u'How did he get there?', 'BillBlack', '983244', datetime.datetime(2008, 6, 21, 0, 0), 4.4)\n",
      "('https://www.literotica.com/s/a-bloody-mile-high-club', 'A Bloody Mile High Club', u'Old acquaintances bump at each other on a long haul flight.', 'dmagiknumero', '1285268', datetime.datetime(2011, 5, 12, 0, 0), 4.27)\n",
      "('https://www.literotica.com/s/a-breakdown-of-inhibitions-ch-01', 'A Breakdown of Inhibitions Ch. 01', u'A girlfriend helps open new horizons for her man.', 'bassstack', '1421679', datetime.datetime(2012, 8, 10, 0, 0), 4.54)\n",
      "('https://www.literotica.com/s/a-brothers-memories-part-4', \"A Brother's Memories Part 4\", u\"Richard gets his first taste of women's clothes.\", 'RichandSis', '62433', datetime.datetime(2001, 12, 10, 0, 0), 4.35)\n",
      "('https://www.literotica.com/s/a-brothers-memories-part-5', \"A Brother's Memories Part 5\", u'Richard/April enjoys an afternoon with an exotic Asian beauty.', 'RichandSis', '62433', datetime.datetime(2001, 12, 19, 0, 0), 3.55)\n",
      "('https://www.literotica.com/s/a-bus-ride-with-april', 'A Bus Ride With April', u'Dylan meets an attractive but mischievous bus companion.', 'JeremyBeach', '1342205', datetime.datetime(2015, 7, 6, 0, 0), 3.68)\n",
      "('https://www.literotica.com/s/a-bus-that-runs-on-pee-ep-01', 'A Bus that Runs on Pee Ep. 01', u'Nick has to check in for work with a full bladder.', 'Nowthisisunbelievable_123', '2982981', datetime.datetime(2016, 9, 28, 0, 0), 3.77)\n",
      "('https://www.literotica.com/s/a-bus-that-runs-on-pee-ep-02', 'A Bus that Runs on Pee Ep. 02', u'Nick struggles to control his bladder at work.', 'Nowthisisunbelievable_123', '2982981', datetime.datetime(2016, 10, 3, 0, 0), 4.09)\n",
      "('https://www.literotica.com/s/a-business-arrangement-ch-1', 'A Business Arrangement Ch. 1', u'Woman fulfills needs at office.', 'Isabella Thorne', '809', datetime.datetime(2000, 10, 22, 0, 0), 4.2)\n",
      "('https://www.literotica.com/s/a-business-arrangement-ch-2', 'A Business Arrangement Ch. 2', u'She plays slut to couple.', 'Isabella Thorne', '809', datetime.datetime(2000, 10, 22, 0, 0), 4.52)\n",
      "('https://www.literotica.com/s/a-business-arrangement-ch-3', 'A Business Arrangement Ch. 3', u'Eesabella submits to kinky young computer executive.', 'Isabella Thorne', '809', datetime.datetime(2002, 3, 28, 0, 0), 4.3)\n",
      "('https://www.literotica.com/s/a-busride-to-remember', 'A Busride to Remember', u'A pee fetish.', 'JohnDo', '1386521', datetime.datetime(2012, 4, 9, 0, 0), 4.35)\n",
      "('https://www.literotica.com/s/a-case-of-misbehavior', 'A Case of Misbehavior', u'Stepdaughter is punished for misbehaving.', 'falcon29', '156724', datetime.datetime(2002, 10, 25, 0, 0), 3.81)\n",
      "('https://www.literotica.com/s/a-catfight-with-amy', 'A Catfight with Amy', u'A \"friendly\" catfight turns out pretty unfriendly.', 'Teresa711', '1225170', datetime.datetime(2010, 9, 28, 0, 0), 3.84)\n",
      "('https://www.literotica.com/s/a-cfnm-wedding-ch-02', 'A CFNM Wedding Ch. 02', u'Office Chastity.', 'aaronhenry17', '1454395', datetime.datetime(2012, 11, 24, 0, 0), 3.64)\n",
      "('https://www.literotica.com/s/a-change-in-our-relationship', 'A Change in Our Relationship', u'A woman decides to make a fundamental change.', 'WillieTurner', '2708611', datetime.datetime(2015, 7, 19, 0, 0), 4.32)\n",
      "('https://www.literotica.com/s/a-change-of-heart', 'A Change of Heart', u'Girlfriend changes her mind on dominating him.', 'd_fantasy', '325435', datetime.datetime(2004, 10, 14, 0, 0), 3.95)\n",
      "('https://www.literotica.com/s/a-change-of-pace-1', 'A Change of Pace', u'He ties her up in the lake house.', 'Damian', '2596', datetime.datetime(2000, 8, 27, 0, 0), 4.44)\n",
      "('https://www.literotica.com/s/a-changed-man-ch-1', 'A Changed Man Ch. 1', u'A submissive husband is feminized by his domme wife.', 'sub5000', '76626', datetime.datetime(2002, 1, 11, 0, 0), 4.36)\n",
      "('https://www.literotica.com/s/a-changed-relationship-ch-01', 'A Changed Relationship Ch. 01', u'A week that led to a loving female-led relationship.', 'MarthaD', '918038', datetime.datetime(2009, 7, 24, 0, 0), 4.61)\n",
      "('https://www.literotica.com/s/a-changed-relationship-ch-02', 'A Changed Relationship Ch. 02', u'A week that led to a loving female led relationtionship.', 'MarthaD', '918038', datetime.datetime(2009, 7, 25, 0, 0), 4.63)\n",
      "('https://www.literotica.com/s/a-changed-relationship-ch-03', 'A Changed Relationship Ch. 03', u'A week that led to a loving female led relationship.', 'MarthaD', '918038', datetime.datetime(2009, 7, 26, 0, 0), 3.86)\n",
      "('https://www.literotica.com/s/a-child-for-the-queen', 'A Child for the Queen', u'A women dominated society uses the males to breed the queen', 'JimGumby', '1477555', datetime.datetime(2014, 9, 15, 0, 0), 4.34)\n",
      "('https://www.literotica.com/s/a-chocolate-covered-cherry', 'A Chocolate Covered Cherry', u'Valentines day dinner party; chocolate covered foot fetish.', 'rogereyes', '1170945', datetime.datetime(2010, 2, 14, 0, 0), 3.91)\n",
      "('https://www.literotica.com/s/a-christmas-cuckold', 'A Christmas Cuckold', u'A cuckold gets a Christmas present.', 'cuckytoher', '1065803', datetime.datetime(2009, 12, 20, 0, 0), 4.27)\n",
      "('https://www.literotica.com/s/a-christmas-fetish-pt-01', 'A Christmas Fetish Pt. 01', u\"Mom's friend adds some sole to Christmas.\", 'jdnybk', '1473142', datetime.datetime(2015, 7, 16, 0, 0), 4.24)\n",
      "('https://www.literotica.com/s/a-christmas-fetish-pt-02', 'A Christmas Fetish Pt. 02', u\"Mom's friend adds sole to Christmas.\", 'jdnybk', '1473142', datetime.datetime(2015, 7, 17, 0, 0), 4.24)\n",
      "('https://www.literotica.com/s/a-christmas-to-remember-1', 'A Christmas to Remember', u'Cuckold servers her girlfriends nude.', 'MistyMorgan', '221362', datetime.datetime(2003, 5, 27, 0, 0), 4.06)\n",
      "('https://www.literotica.com/s/a-clean-mouth', 'A Clean Mouth', u'Mistreating a maid...what could go wrong?', 'Namazuros', '1294246', datetime.datetime(2011, 5, 8, 0, 0), 3.39)\n",
      "('https://www.literotica.com/s/a-clean-mouth-is-a-happy-mouth', 'A Clean Mouth is a Happy Mouth', u'Man with cavities obsesses over dental hygienist.', 'kgmorgensen', '66093', datetime.datetime(2001, 11, 27, 0, 0), 4.49)\n",
      "('https://www.literotica.com/s/a-clean-pair-of-heels', 'A Clean Pair of Heels', u'Serious shoe fetishist gets intimate with his favourite pair.', 'noisymother', '953287', datetime.datetime(2008, 9, 20, 0, 0), 3.47)\n",
      "('https://www.literotica.com/s/a-coffee-morning-with-the-girls', 'A Coffee Morning with the Girls', u'A visitor raises the pulse and a rope raises the hands.', 'Cookie5', '1249041', datetime.datetime(2011, 2, 7, 0, 0), 3.51)\n",
      "('https://www.literotica.com/s/a-collector', 'A Collector', u'He collected his items at the laundromat.', 'MungoParkIII', '745789', datetime.datetime(2007, 12, 31, 0, 0), 4.73)\n",
      "('https://www.literotica.com/s/a-college-professors-discovery', \"A College Professor's Discovery\", u'Anthropological research launches her strapon practice.', 'escriterra', '1087454', datetime.datetime(2009, 9, 22, 0, 0), 4.72)\n",
      "('https://www.literotica.com/s/a-college-professors-discovery-ch-02', \"A College Professor's Discovery Ch. 02\", u'Miss Victoria continues tutoring Sherrie in strapon practice.', 'escriterra', '1087454', datetime.datetime(2010, 10, 31, 0, 0), 4.7)\n",
      "('https://www.literotica.com/s/a-college-professors-discovery-ch-03', \"A College Professor's Discovery Ch. 03\", u\"Dr. Sherrie Mathison's third strapon tutoring session.\", 'escriterra', '1087454', datetime.datetime(2012, 6, 20, 0, 0), 3.88)\n",
      "('https://www.literotica.com/s/a-coming-of-age', 'A Coming of Age', u'Young man turns household robot into fetish fembot.', 'soleful', '79593', datetime.datetime(2002, 2, 11, 0, 0), 3.83)\n",
      "('https://www.literotica.com/s/a-coming-to-terms', 'A Coming to Terms', u'A Christian woman indulges in pee fun.', 'steve25805', '1569242', datetime.datetime(2014, 1, 7, 0, 0), 4.08)\n",
      "('https://www.literotica.com/s/a-company-man', 'A Company Man', u\"Jack wonders, 'Aren't  there easier ways to be promoted?'\", 'John41inTX', '66932', datetime.datetime(2001, 12, 1, 0, 0), 4.22)\n",
      "('https://www.literotica.com/s/a-company-man-ch-2', 'A Company Man Ch. 2', u\"Jack's continued progress as the company's 'man'.\", 'John41inTX', '66932', datetime.datetime(2001, 12, 6, 0, 0), 4.22)\n",
      "('https://www.literotica.com/s/a-company-man-ch-4', 'A Company Man Ch. 4', u'Jack & Karen are married.', 'John41inTX', '66932', datetime.datetime(2001, 12, 15, 0, 0), 4.15)\n",
      "('https://www.literotica.com/s/a-company-of-women', 'A Company of Women', u'Forced foot worship.', 'byronbgeo', '1957790', datetime.datetime(2014, 4, 5, 0, 0), 4.17)\n",
      "('https://www.literotica.com/s/a-conference-legacy-ch-01', 'A Conference Legacy Ch. 01', u'A three-day conference turns into a full scale LegFest.', 'barelegs', '1066616', datetime.datetime(2009, 8, 3, 0, 0), 4.33)\n",
      "('https://www.literotica.com/s/a-conference-legacy-ch-02', 'A Conference Legacy Ch. 02', u'Preparing for the Conference - in more ways than one!', 'barelegs', '1066616', datetime.datetime(2009, 8, 6, 0, 0), 4.43)\n",
      "('https://www.literotica.com/s/a-conference-legacy-ch-03', 'A Conference Legacy Ch. 03', u'The final rehearsal.', 'barelegs', '1066616', datetime.datetime(2009, 8, 12, 0, 0), 4.55)\n",
      "('https://www.literotica.com/s/a-conference-legacy-ch-04', 'A Conference Legacy Ch. 04', u'A new girl enters the picture.', 'barelegs', '1066616', datetime.datetime(2009, 8, 14, 0, 0), 4.6)\n",
      "('https://www.literotica.com/s/a-conference-legacy-ch-05', 'A Conference Legacy Ch. 05', u'An incredible journey.', 'barelegs', '1066616', datetime.datetime(2009, 8, 30, 0, 0), 4.27)\n",
      "('https://www.literotica.com/s/a-conference-legacy-ch-06', 'A Conference Legacy Ch. 06', u'Getting Down to Business.', 'barelegs', '1066616', datetime.datetime(2009, 8, 31, 0, 0), 4.38)\n",
      "('https://www.literotica.com/s/a-conference-legacy-ch-07', 'A Conference Legacy Ch. 07', u'Surprise! Surprise!', 'barelegs', '1066616', datetime.datetime(2009, 9, 1, 0, 0), 3.53)\n",
      "('https://www.literotica.com/s/a-consenting-adult', 'A Consenting Adult', u'Lindsay decides to be an outright bitch.', 'LankM6782', '1431325', datetime.datetime(2012, 11, 2, 0, 0), 4.17)\n",
      "('https://www.literotica.com/s/a-conversation-between-cuck-queens', 'A Conversation Between  Cuck-Queens', u'Cuck-queens talk about cucking the guys that love them.', 'LynnGKS', '1158688', datetime.datetime(2010, 6, 13, 0, 0), 4.35)\n",
      "('https://www.literotica.com/s/a-conversation-between-cuck-queens-ch-02', 'A Conversation Between Cuck-Queens Ch. 02', u'Cuck-queens talk in front of the cucks that they love.', 'LynnGKS', '1158688', datetime.datetime(2010, 6, 18, 0, 0), 4.37)\n",
      "('https://www.literotica.com/s/a-conversation-between-cuck-queens-ch-03', 'A Conversation Between Cuck-Queens Ch. 03', u'Cuck-queens talk in front of the cucks that they love.', 'LynnGKS', '1158688', datetime.datetime(2010, 8, 15, 0, 0), 3.67)\n",
      "('https://www.literotica.com/s/a-cops-day-out-and-in', 'A Cops Day Out.. And In.', u'The taste of Honey!', 'Sally_Mae', '1186778', datetime.datetime(2010, 7, 26, 0, 0), 3.5)\n",
      "('https://www.literotica.com/s/a-country-blackmailing', 'A Country Blackmailing', u'Sharon is Blackmailed by higher Co-Worker.', 'Bustertaker', '1330762', datetime.datetime(2011, 9, 14, 0, 0), 4.05)\n",
      "('https://www.literotica.com/s/a-country-posting', 'A Country Posting', u'Nurse treats a traffic victim.', 'exaltau', '238598', datetime.datetime(2003, 8, 5, 0, 0), 4.04)\n",
      "('https://www.literotica.com/s/a-country-posting-ch-02', 'A Country Posting Ch. 02', u'Country nurse provides special treatment.', 'exaltau', '238598', datetime.datetime(2004, 4, 20, 0, 0), 4.26)\n",
      "('https://www.literotica.com/s/a-couples-cuckold-fantasy-pt-01', \"A Couple's Cuckold Fantasy Pt. 01\", u\"John and Danielle's cuckold fantasy comes to fruition.\", 'flash321', '2615087', datetime.datetime(2015, 5, 29, 0, 0), 4.37)\n",
      "('https://www.literotica.com/s/a-couples-cuckold-fantasy-pt-02', \"A Couple's Cuckold Fantasy Pt. 02\", u'John gets both himself and Danielle ready for her date.', 'flash321', '2615087', datetime.datetime(2015, 5, 30, 0, 0), 3.97)\n",
      "('https://www.literotica.com/s/a-coupling', 'A Coupling', u'A cuckold story.', 'cuckytoher', '1065803', datetime.datetime(2010, 9, 3, 0, 0), 4.27)\n",
      "('https://www.literotica.com/s/a-cowboys-fantasy', \"A Cowboy's Fantasy\", u'City girl yearns for a man in a Stetson.', 'penguindance', '110240', datetime.datetime(2002, 5, 12, 0, 0), 4.67)\n",
      "('https://www.literotica.com/s/a-creampie-amongst-friends', 'A Creampie Amongst Friends', u'Two best friends meet a beautiful cum loving girl.', 'cpluver', '674052', datetime.datetime(2007, 6, 27, 0, 0), 4.41)\n",
      "('https://www.literotica.com/s/a-creampie-request', 'A Creampie Request', u'Girlfriend wants equal treatment.', 'cpluver', '674052', datetime.datetime(2006, 9, 12, 0, 0), 4.48)\n",
      "('https://www.literotica.com/s/a-creampie-revisited-ch-01', 'A Creampie Revisited Ch. 01', u'Creampies, Snowballs and growing older together.', 'cpluver', '674052', datetime.datetime(2010, 1, 17, 0, 0), 4.68)\n"
     ]
    }
   ],
   "source": [
    "from itertools import izip\n",
    "z = zip(story_urls,story_titles,story_descs,story_author_names,story_author_ids,story_dates,story_ratings)\n",
    "for story in z: print(story)"
   ]
  },
  {
   "cell_type": "markdown",
   "metadata": {},
   "source": [
    "class Story(object):\n",
    "    def __init__(self, url):\n",
    "        self.first_page = url\n",
    "        self.num_pages = 0\n",
    "        self.title = ''\n",
    "        self.author = ''\n",
    "        self.score = 0\n",
    "        self.favorites = 0\n",
    "        self.created = ''\n",
    "        self.description = ''\n",
    "        self.body = ''\n",
    "        \n",
    "    \n",
    "        \n",
    "        \n",
    "    "
   ]
  }
 ],
 "metadata": {
  "kernelspec": {
   "display_name": "Python [conda env:py2k]",
   "language": "python",
   "name": "conda-env-py2k-py"
  },
  "language_info": {
   "codemirror_mode": {
    "name": "ipython",
    "version": 2
   },
   "file_extension": ".py",
   "mimetype": "text/x-python",
   "name": "python",
   "nbconvert_exporter": "python",
   "pygments_lexer": "ipython2",
   "version": "2.7.13"
  }
 },
 "nbformat": 4,
 "nbformat_minor": 1
}
