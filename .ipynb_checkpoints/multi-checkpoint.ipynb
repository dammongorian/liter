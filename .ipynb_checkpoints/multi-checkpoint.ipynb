{
 "cells": [
  {
   "cell_type": "code",
   "execution_count": 1,
   "metadata": {},
   "outputs": [],
   "source": [
    "import pymongo\n",
    "from pymongo import MongoClient\n",
    "# connect to the default mongo instance aka: client = MongoClient('localhost', 27017)\n",
    "# start mongo db with $mongod -dbpath . \n",
    "client = MongoClient()"
   ]
  },
  {
   "cell_type": "code",
   "execution_count": 2,
   "metadata": {},
   "outputs": [
    {
     "name": "stdout",
     "output_type": "stream",
     "text": [
      "[u'admin', u'liter', u'local']\n"
     ]
    }
   ],
   "source": [
    "print(client.database_names())"
   ]
  },
  {
   "cell_type": "code",
   "execution_count": 3,
   "metadata": {},
   "outputs": [],
   "source": [
    "import get_text\n",
    "from get_text import download, genre_urls_dic, get_story"
   ]
  },
  {
   "cell_type": "code",
   "execution_count": 4,
   "metadata": {},
   "outputs": [],
   "source": [
    "story_dict = genre_urls_dic('https://www.literotica.com/c/fetish-stories')"
   ]
  },
  {
   "cell_type": "code",
   "execution_count": 3,
   "metadata": {},
   "outputs": [],
   "source": [
    "db = client.liter\n",
    "collection = db.test\n",
    "\n"
   ]
  },
  {
   "cell_type": "code",
   "execution_count": 24,
   "metadata": {},
   "outputs": [
    {
     "data": {
      "text/plain": [
       "<pymongo.results.InsertManyResult at 0x7fd14579c780>"
      ]
     },
     "execution_count": 24,
     "metadata": {},
     "output_type": "execute_result"
    }
   ],
   "source": [
    "#collection.insert_many(story_dict)\n",
    "\n",
    "#collection.update_one({\"story_id\":\"are-they-nice\"},{'$set': {\"tester\":\"test1\"}})"
   ]
  },
  {
   "cell_type": "code",
   "execution_count": 27,
   "metadata": {},
   "outputs": [
    {
     "name": "stdout",
     "output_type": "stream",
     "text": [
      "1295.48005199\n"
     ]
    }
   ],
   "source": [
    "from timeit import default_timer as timer\n",
    "import multiprocessing as mp\n",
    "\n",
    "story_list = collection.find(projection=['url'])\n",
    "\n",
    "def get_it(story):\n",
    "    client = MongoClient('localhost',27017,connect=False)\n",
    "    db = client.liter\n",
    "    collection = db.test\n",
    "    collection.update_one({\"_id\":story['_id']},{\"$set\":get_story(story['url'])})\n",
    "\n",
    "pool = mp.Pool()\n",
    "\n",
    "start = timer()\n",
    "\n",
    "pool.map(get_it, story_list)\n",
    "\n",
    "end = timer()\n",
    "print(end - start)"
   ]
  },
  {
   "cell_type": "code",
   "execution_count": 4,
   "metadata": {},
   "outputs": [
    {
     "name": "stdout",
     "output_type": "stream",
     "text": [
      "599.042693138\n"
     ]
    }
   ],
   "source": [
    "from process_text import clean_story\n",
    "from timeit import default_timer as timer\n",
    "import multiprocessing as mp\n",
    "\n",
    "raw_stories = collection.find(projection=['story_text'])\n",
    "\n",
    "def clean_it(story):\n",
    "    client = MongoClient('localhost',27017,connect=False)\n",
    "    db = client.liter\n",
    "    collection = db.test\n",
    "    collection.update_one({\"_id\":story['_id']},{\"$set\":{'clean_story':clean_story(story['story_text'])}})\n",
    "\n",
    "pool = mp.Pool()\n",
    "\n",
    "start = timer()\n",
    "\n",
    "pool.map(clean_it, raw_stories)\n",
    "\n",
    "\n",
    "\n",
    "end = timer()\n",
    "print(end - start)"
   ]
  },
  {
   "cell_type": "code",
   "execution_count": 22,
   "metadata": {},
   "outputs": [
    {
     "data": {
      "text/plain": [
       "<pymongo.results.DeleteResult at 0x7fd1141eabe0>"
      ]
     },
     "execution_count": 22,
     "metadata": {},
     "output_type": "execute_result"
    }
   ],
   "source": [
    "#collection.delete_many({})"
   ]
  },
  {
   "cell_type": "code",
   "execution_count": 6,
   "metadata": {},
   "outputs": [],
   "source": [
    "from pprint import pprint\n",
    "#pprint([x for x in collection.find()[:20]])\n",
    "#pprint(story_dict)\n"
   ]
  },
  {
   "cell_type": "code",
   "execution_count": 7,
   "metadata": {},
   "outputs": [],
   "source": [
    "text1 = get_story('https://www.literotica.com/s/3-days-of-watching-my-wife-fuck')"
   ]
  },
  {
   "cell_type": "code",
   "execution_count": null,
   "metadata": {},
   "outputs": [],
   "source": []
  },
  {
   "cell_type": "code",
   "execution_count": null,
   "metadata": {},
   "outputs": [],
   "source": []
  }
 ],
 "metadata": {
  "kernelspec": {
   "display_name": "Python [conda env:py2k]",
   "language": "python",
   "name": "conda-env-py2k-py"
  },
  "language_info": {
   "codemirror_mode": {
    "name": "ipython",
    "version": 2
   },
   "file_extension": ".py",
   "mimetype": "text/x-python",
   "name": "python",
   "nbconvert_exporter": "python",
   "pygments_lexer": "ipython2",
   "version": "2.7.13"
  }
 },
 "nbformat": 4,
 "nbformat_minor": 2
}
